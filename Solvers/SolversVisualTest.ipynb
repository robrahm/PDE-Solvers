{
 "cells": [
  {
   "cell_type": "code",
   "execution_count": 22,
   "id": "677683ff-b909-49ed-8cea-d6ed17c64562",
   "metadata": {},
   "outputs": [],
   "source": [
    "import numpy as np\n",
    "import matplotlib.pyplot as plt\n",
    "from Pro_Solvers.pro_solvers import solve_heat\n",
    "from My_Solvers.pde_solvers import fdm\n",
    "plt.rcParams[\"figure.figsize\"] = (5, 3)  # width x height in inches\n",
    "from matplotlib.animation import FuncAnimation\n",
    "import time\n",
    "from scipy.interpolate import interp1d\n",
    "#from manim import *\n",
    "#from manim.utils.ipython_magic import ManimMagic\n",
    "#get_ipython().register_magics(ManimMagic)\n",
    "\n",
    "#%load_ext manim"
   ]
  },
  {
   "cell_type": "code",
   "execution_count": 41,
   "id": "c26f46b9-65a6-43ab-a8dd-5bdc1e04d67f",
   "metadata": {},
   "outputs": [
    {
     "name": "stdout",
     "output_type": "stream",
     "text": [
      "first part done in 0.40106987953186035 seconds\n",
      "second part done in 0.0009975433349609375 seconds\n",
      "ratio is 402.0576003824092\n"
     ]
    }
   ],
   "source": [
    "# PDE: u_t = alpha u_xx\n",
    "alpha = .1 #lambda x: 1\n",
    "L = 1.0\n",
    "dx = 0.01\n",
    "dt = 0.0001\n",
    "t_end = 1 * 0.001  # Try varying this\n",
    "\n",
    "# Initial condition: sin(3 pi x)\n",
    "#u0 = lambda x: np.sin(3 * np.pi * x) + 1\n",
    "#u0 = lambda x: x**2\n",
    "#u0 = lambda x : np.where(np.sin(100*x) > 0.0, 1.0, 0.0)\n",
    "#u0 = lambda x: np.where(np.abs(x) < .1, 100.0, 0.0)\n",
    "\n",
    "N = 100\n",
    "C = np.random.rand(N)\n",
    "def u0(x):\n",
    "    u = 0\n",
    "    k = 0\n",
    "    while k < N:\n",
    "        u += C[k]*np.cos((k+1) * np.pi * x) / (k+1)\n",
    "        k += 1\n",
    "    return u + 1\n",
    "\n",
    "G = np.random.rand(N)\n",
    "GN = 10\n",
    "def g(x, t):\n",
    "    u = 0\n",
    "    k = 0\n",
    "    while k < GN:\n",
    "        u += G[k]*np.cos((k+1) * np.pi * x) / (k+1)\n",
    "        k += 1\n",
    "    return u + 1\n",
    "\n",
    "#u0 = lambda x: 10*np.exp(-100*(x-.5)**2)\n",
    "# Exact solution\n",
    "#def u_exact(x, t):\n",
    "#    return np.exp(-18 * np.pi**2 * t) * np.sin(3 * np.pi * x)\n",
    "\n",
    "def u_exact(x, t):\n",
    "    u = np.zeros_like(x)  # initialize with same shape as x\n",
    "    k = 0\n",
    "    while k < N:\n",
    "        term = C[k] * np.exp(-(k+1)**2 * np.pi**2 * t * alpha) * np.cos((k+1) * np.pi * x) / (k+1)\n",
    "        u += term\n",
    "        k += 1\n",
    "    return u + 1\n",
    "\n",
    "\n",
    "tick = time.time()\n",
    "T, U = solve_heat(u0, alpha, dx, t_end, L, dt=dt, convec = 0, leftval = 0, rightval = 0)#, g = lambda x,t: (t**2)*np.cos(x))\n",
    "tock = time.time()\n",
    "ft = tock - tick\n",
    "print(f\"first part done in {ft} seconds\")\n",
    "T1, X1, U1 = fdm(u0, alpha, dx, t_end, L, dt=dt, convec = 0, lbc = [1,0,0], rbc = [1,0,0])#, g = lambda x,t: (t**2)*np.cos(x))\n",
    "tick = time.time()\n",
    "print(f\"second part done in {tick - tock} seconds\")\n",
    "print(f\"ratio is {ft / (tick - tock)}\")"
   ]
  },
  {
   "cell_type": "code",
   "execution_count": 42,
   "id": "475631ff-c0ff-4cb4-8596-f475981c2784",
   "metadata": {
    "scrolled": true
   },
   "outputs": [
    {
     "data": {
      "image/png": "[encoded data removed]",
      "text/plain": [
       "<Figure size 360x216 with 1 Axes>"
      ]
     },
     "metadata": {
      "needs_background": "light"
     },
     "output_type": "display_data"
    }
   ],
   "source": [
    "x = np.linspace(dx/2, L - dx/2, int(L/dx))  # FiPy's cell centers\n",
    "\n",
    "#plt.plot(x, U[0], label='Initial')\n",
    "plt.plot(x, U[-1], '--', label=f'FiPy')\n",
    "plt.plot(X1, U1[-1], '--', label='MyPy')\n",
    "#plt.plot(X1, u_exact(X1,t_end), '--', label=\"Exact\")\n",
    "\n",
    "\n",
    "plt.title(f\"Solution at t = {t_end}\")\n",
    "plt.xlabel(\"x\")\n",
    "plt.ylabel(\"u(x,t)\")\n",
    "plt.legend()\n",
    "plt.grid(True)\n",
    "plt.show()\n",
    "\n"
   ]
  },
  {
   "cell_type": "code",
   "execution_count": null,
   "id": "92ad3fc3-8627-4371-94d0-a7e4b16fd094",
   "metadata": {},
   "outputs": [],
   "source": [
    "from matplotlib.animation import FuncAnimation\n",
    "U = U1\n",
    "x = X1\n",
    "\n",
    "fig, ax = plt.subplots()\n",
    "line, = ax.plot([], [], lw=2)\n",
    "ax.set_xlim(0, L)\n",
    "ax.set_ylim(-1.1, np.max(U) + .1)\n",
    "ax.set_xlabel(\"x\")\n",
    "ax.set_ylabel(\"u(x,t)\")\n",
    "ax.set_title(\"Heat Equation Animation\")\n",
    "\n",
    "def init():\n",
    "    line.set_data([], [])\n",
    "    return (line,)\n",
    "\n",
    "def update(frame):\n",
    "    line.set_data(x, U[frame])\n",
    "    ax.set_title(f\"t = {T[frame]:.4f}\")\n",
    "    return (line,)\n",
    "\n",
    "ani = FuncAnimation(fig, update, frames=len(T), init_func=init, blit=True)\n",
    "\n",
    "from IPython.display import HTML\n",
    "HTML(ani.to_jshtml())"
   ]
  },
  {
   "cell_type": "code",
   "execution_count": 23,
   "id": "a9b7763e-b529-4be7-829f-da191e80f85b",
   "metadata": {},
   "outputs": [
    {
     "data": {
      "text/plain": [
       "-4.599054657753657"
      ]
     },
     "execution_count": 23,
     "metadata": {},
     "output_type": "execute_result"
    }
   ],
   "source": [
    "dx * (np.sum(U[-1]) - np.sum(U1[-1])) /dx*np.sum(U[-1])"
   ]
  },
  {
   "cell_type": "code",
   "execution_count": 22,
   "id": "f0e0627c-63f0-47a3-a703-0f10fbadcd17",
   "metadata": {},
   "outputs": [
    {
     "data": {
      "text/plain": [
       "0.8696705014067267"
      ]
     },
     "execution_count": 22,
     "metadata": {},
     "output_type": "execute_result"
    }
   ],
   "source": [
    "dx*np.sum(U[-1])"
   ]
  },
  {
   "cell_type": "code",
   "execution_count": 6,
   "id": "9787579a-c253-4fba-8203-cbcabb1974dd",
   "metadata": {},
   "outputs": [
    {
     "data": {
      "text/plain": [
       "(101,)"
      ]
     },
     "execution_count": 6,
     "metadata": {},
     "output_type": "execute_result"
    }
   ],
   "source": [
    "X1.shape"
   ]
  },
  {
   "cell_type": "code",
   "execution_count": 30,
   "id": "e2104c45",
   "metadata": {},
   "outputs": [
    {
     "data": {
      "text/plain": [
       "(100,)"
      ]
     },
     "execution_count": 30,
     "metadata": {},
     "output_type": "execute_result"
    }
   ],
   "source": [
    "X = np.arange(dx/2, L, dx)\n",
    "X.shape"
   ]
  },
  {
   "cell_type": "code",
   "execution_count": 31,
   "id": "8252ce26",
   "metadata": {},
   "outputs": [
    {
     "data": {
      "text/plain": [
       "1.0"
      ]
     },
     "execution_count": 31,
     "metadata": {},
     "output_type": "execute_result"
    }
   ],
   "source": [
    "X1[-1]"
   ]
  },
  {
   "cell_type": "code",
   "execution_count": 32,
   "id": "845c6f6d",
   "metadata": {},
   "outputs": [
    {
     "data": {
      "text/plain": [
       "0.9949999999999999"
      ]
     },
     "execution_count": 32,
     "metadata": {},
     "output_type": "execute_result"
    }
   ],
   "source": [
    "X[-1]"
   ]
  },
  {
   "cell_type": "code",
   "execution_count": 33,
   "id": "d3bd0536",
   "metadata": {},
   "outputs": [
    {
     "data": {
      "text/plain": [
       "(46, 100)"
      ]
     },
     "execution_count": 33,
     "metadata": {},
     "output_type": "execute_result"
    }
   ],
   "source": [
    "U.shape"
   ]
  },
  {
   "cell_type": "code",
   "execution_count": 42,
   "id": "8ca37080",
   "metadata": {},
   "outputs": [],
   "source": [
    "inU = interp1d(X, U[-1], kind='cubic', fill_value = \"extrapolate\")\n",
    "U = inU(X1)"
   ]
  },
  {
   "cell_type": "code",
   "execution_count": 45,
   "id": "9847c2a2",
   "metadata": {},
   "outputs": [
    {
     "data": {
      "text/plain": [
       "8.674705768181816e-06"
      ]
     },
     "execution_count": 45,
     "metadata": {},
     "output_type": "execute_result"
    }
   ],
   "source": [
    "dx*np.sum((U1[-1] - U)**2)"
   ]
  },
  {
   "cell_type": "code",
   "execution_count": 47,
   "id": "4e0ada14",
   "metadata": {},
   "outputs": [
    {
     "data": {
      "text/plain": [
       "[<matplotlib.lines.Line2D at 0x269b708c100>]"
      ]
     },
     "execution_count": 47,
     "metadata": {},
     "output_type": "execute_result"
    },
    {
     "data": {
      "image/png": "[encoded data removed]",
      "text/plain": [
       "<Figure size 360x216 with 1 Axes>"
      ]
     },
     "metadata": {
      "needs_background": "light"
     },
     "output_type": "display_data"
    }
   ],
   "source": [
    "plt.plot(X1, U1[-1])\n",
    "plt.plot(X1, U)"
   ]
  },
  {
   "cell_type": "code",
   "execution_count": null,
   "id": "afa82aca",
   "metadata": {},
   "outputs": [],
   "source": []
  }
 ],
 "metadata": {
  "kernelspec": {
   "display_name": "Python 3",
   "language": "python",
   "name": "python3"
  },
  "language_info": {
   "codemirror_mode": {
    "name": "ipython",
    "version": 3
   },
   "file_extension": ".py",
   "mimetype": "text/x-python",
   "name": "python",
   "nbconvert_exporter": "python",
   "pygments_lexer": "ipython3",
   "version": "3.8.8"
  }
 },
 "nbformat": 4,
 "nbformat_minor": 5
}
